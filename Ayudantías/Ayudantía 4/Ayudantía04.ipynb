{
 "cells": [
  {
   "cell_type": "markdown",
   "metadata": {
    "slideshow": {
     "slide_type": "slide"
    }
   },
   "source": [
    "# 🏹 Graficando campos vectoriales\n",
    "\n",
    "## Pablo Zurita Soler (pzurita@uc.cl)"
   ]
  },
  {
   "cell_type": "markdown",
   "metadata": {
    "slideshow": {
     "slide_type": "slide"
    }
   },
   "source": [
    "La librería `matplotlib` provee el comando `quiver` que permite graficar flechas con ciertas coordenadas que la definen, ubicadas en ciertas coordenadas. Consideremos, por ejemplo, el campo\n",
    "\n",
    "$$\n",
    "    \\mathbf{f}(\\mathbf{x}) = \\begin{pmatrix} \\frac{\\sqrt{x_{1}}}{2} \\\\ x_{2} \\end{pmatrix}\n",
    "$$\n",
    "\n",
    "y supongamos que este campo actúa sobre una región $\\Omega = [0, 5] \\times [-1, 1]$, pero queremos graficar su efecto solo en la frontera derecha de la región."
   ]
  },
  {
   "cell_type": "markdown",
   "metadata": {
    "slideshow": {
     "slide_type": "slide"
    }
   },
   "source": [
    "Veamos primero cómo graficar la región. De partida, siempre hay que importar lo necesario."
   ]
  },
  {
   "cell_type": "code",
   "execution_count": null,
   "metadata": {
    "slideshow": {
     "slide_type": "-"
    }
   },
   "outputs": [],
   "source": [
    "import numpy as np\n",
    "import matplotlib.pyplot as plt\n",
    "plt.style.use('ggplot')  # Hay muchos estilos para usar, a mí me gusta ggplot 😊"
   ]
  },
  {
   "cell_type": "markdown",
   "metadata": {
    "slideshow": {
     "slide_type": "slide"
    }
   },
   "source": [
    "Creemos una grilla de $\\Omega$."
   ]
  },
  {
   "cell_type": "code",
   "execution_count": null,
   "metadata": {
    "slideshow": {
     "slide_type": "-"
    }
   },
   "outputs": [],
   "source": [
    "x = np.linspace(0, 5, 100)\n",
    "y = np.linspace(-0.5, 0.5, 500)\n",
    "\n",
    "xx, yy = np.meshgrid(x, y)"
   ]
  },
  {
   "cell_type": "markdown",
   "metadata": {
    "slideshow": {
     "slide_type": "slide"
    }
   },
   "source": [
    "Plotearemos una discretización, aunque hay comandos, como `np.fill`, para figuras rellenas 👀."
   ]
  },
  {
   "cell_type": "code",
   "execution_count": null,
   "metadata": {
    "scrolled": true,
    "slideshow": {
     "slide_type": "-"
    }
   },
   "outputs": [],
   "source": [
    "plt.figure()\n",
    "plt.plot(xx, yy, '.', color='purple')\n",
    "plt.axis('equal')\n",
    "plt.show()"
   ]
  },
  {
   "cell_type": "markdown",
   "metadata": {
    "slideshow": {
     "slide_type": "slide"
    }
   },
   "source": [
    "La grilla es suficientemente _fina_ como para que se vea continuo. Qué tan fina es una grilla o una discretización se refiere al tamaño de los segmentos discretos: mientras más pequeños, más fina es. Es importante saber que mientras más fina sea la discretización, mayor resolución tendrán los campos graficados sobre ella 🎨."
   ]
  },
  {
   "cell_type": "markdown",
   "metadata": {
    "slideshow": {
     "slide_type": "slide"
    }
   },
   "source": [
    "¿Qué pasa si queremos graficar $\\mathbf{f}$? Por supuesto, necesitamos un arreglo que contenga los valores de $\\mathbf{f}$ que nos interesa graficar. Dijimos que queríamos el borde derecho de la región, así que... vamos a obtener una **grilla de la región de interés**. Por supuesto, podríamos obtener esto **seleccionando valores de la grilla original**, pero para efectos de este ejemplo, vamos a generar una nueva."
   ]
  },
  {
   "cell_type": "code",
   "execution_count": null,
   "metadata": {
    "slideshow": {
     "slide_type": "-"
    }
   },
   "outputs": [],
   "source": [
    "y_reshape = np.linspace(-0.5, 0.5, 5)\n",
    "x_reshape = 5\n",
    "\n",
    "xx_right, yy_right = np.meshgrid(x_reshape, y_reshape)"
   ]
  },
  {
   "cell_type": "markdown",
   "metadata": {
    "slideshow": {
     "slide_type": "slide"
    }
   },
   "source": [
    "Ahora, necesitamos un arreglo que represente nuestro campo vectorial sobre la región de interés. Tomamos, entonces,"
   ]
  },
  {
   "cell_type": "code",
   "execution_count": null,
   "metadata": {
    "slideshow": {
     "slide_type": "-"
    }
   },
   "outputs": [],
   "source": [
    "def f(x, y):\n",
    "    return np.array([np.sqrt(x)/2, y])\n",
    "\n",
    "ff = f(xx_right, yy_right)\n",
    "ff.shape"
   ]
  },
  {
   "cell_type": "markdown",
   "metadata": {
    "slideshow": {
     "slide_type": "slide"
    }
   },
   "source": [
    "Por último, utilizamos la función `quiver` para graficar. Notemos que, como la grilla sobre la que estamos graficando es más gruesa, se verán menos vectores. Graficaremos en la misma `figure` a la región, para verlas juntas. Además, ajustaremos los ejes del gráfico para, efectivamente, hacer un _zoom_ a la región de interés."
   ]
  },
  {
   "cell_type": "code",
   "execution_count": null,
   "metadata": {
    "slideshow": {
     "slide_type": "slide"
    }
   },
   "outputs": [],
   "source": [
    "plt.figure()\n",
    "plt.plot(xx, yy, '.', color='purple')\n",
    "plt.quiver(xx_right, yy_right, *ff)  # * es para desempaquetar\n",
    "plt.axis('equal')\n",
    "plt.xlim(3, 7)\n",
    "plt.show()"
   ]
  }
 ],
 "metadata": {
  "celltoolbar": "Slideshow",
  "kernelspec": {
   "display_name": "Python 3.8.2 64-bit",
   "language": "python",
   "name": "python38264bit9c563057edff471fac51e4931dc5b693"
  },
  "language_info": {
   "codemirror_mode": {
    "name": "ipython",
    "version": 3
   },
   "file_extension": ".py",
   "mimetype": "text/x-python",
   "name": "python",
   "nbconvert_exporter": "python",
   "pygments_lexer": "ipython3",
   "version": "3.8.2"
  }
 },
 "nbformat": 4,
 "nbformat_minor": 4
}
