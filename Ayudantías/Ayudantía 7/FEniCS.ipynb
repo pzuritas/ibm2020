{
 "cells": [
  {
   "cell_type": "markdown",
   "metadata": {},
   "source": [
    "# 💻 Tutorial de FEniCS (para el problema de elasticidad no lineal)\n",
    "\n",
    "## Tutorial original por David Ortiz\n",
    "## Versión actualizada por Pablo Zurita Soler (pzurita@uc.cl)"
   ]
  },
  {
   "cell_type": "markdown",
   "metadata": {},
   "source": [
    "FEniCS es un proyecto colaborativo de _software_ que provee una interfaz simbólica intuitiva a un sistema eficiente de resolución de ecuaciones diferenciales parciales usando el método de elementos finitos. Para más detalles, ver [la página principal](https://fenicsproject.org/), y, en especial\n",
    "\n",
    "### [el tutorial en HTML](https://fenicsproject.org/pub/tutorial/html/ftut1.html), con códigos de ejemplo para otras ecuaciones y explicaciones útiles\n",
    "\n",
    "### [la documentación de la última versión](https://fenics.readthedocs.io/en/latest/), ojo con que sea la versión que estén usando"
   ]
  },
  {
   "cell_type": "markdown",
   "metadata": {},
   "source": [
    "Para usar FEniCS corriendo en su computador, debe ser instalado sobre una distribución de Python cualquiera en Linux, o sobre Anaconda en MacOS. Para uso en Windows, se debe instalar WSL para tener una consola de Linux nativa. Todos los detalles se encuentran en la página principal de FEniCS.\n",
    "\n",
    "Alternativamente, **pueden correr FEniCS en un ambiente de Google Colab**. Para esto, deben correr el siguiente código (al comienzo de su archivo `.ipynb`):"
   ]
  },
  {
   "cell_type": "code",
   "execution_count": null,
   "metadata": {},
   "outputs": [],
   "source": [
    "# Add FEniCS PPA to Ubuntu and install (Python3.6)\n",
    "!echo deb http://ppa.launchpad.net/fenics-packages/fenics/ubuntu bionic main >> /etc/apt/sources.list\n",
    "!apt-key adv --keyserver keyserver.ubuntu.com --recv-keys 2C5275D7EF63D9DE2D28D3702940F5212B746472\n",
    "!apt-get -qq update\n",
    "\n",
    "!apt-get -y install fenics > /dev/null\n",
    "\n",
    "# Reinstall dolfin for Python3.7\n",
    "!rm -r /usr/lib/petsc/lib/python3/dist-packages/dolfin\n",
    "!git clone https://bitbucket.org/fenics-project/dolfin\n",
    "!cd dolfin/python && python3 setup.py install\n",
    "\n",
    "# Reinstall mpi4py for Python3.7\n",
    "!rm -r /usr/lib/python3/dist-packages/mpi4py*\n",
    "!pip3 install mpi4py --upgrade"
   ]
  },
  {
   "cell_type": "markdown",
   "metadata": {},
   "source": [
    "y, una vez terminado de instalar, deben ejecutar la instrucción de _restart runtime_. Si se siguieron esos pasos, el siguiente comando debería correr sin problemas. Este importa la librería fundamental de FEniCS, llamada `dolfin`."
   ]
  },
  {
   "cell_type": "code",
   "execution_count": null,
   "metadata": {},
   "outputs": [],
   "source": [
    "from dolfin import *"
   ]
  },
  {
   "cell_type": "markdown",
   "metadata": {},
   "source": [
    "Ahora vamos al tutorial del problema de hiperelasticidad."
   ]
  },
  {
   "cell_type": "markdown",
   "metadata": {},
   "source": [
    "# Hiperelasticidad\n",
    "\n",
    "Sea $B_0 \\subset \\mathbb{R}^3$ un cuerpo con densidad de masa $R$ que asumiremos constante. Adicionalmente, definimos\n",
    "\n",
    "- $\\varphi:B_0\\to\\mathbb{R}^3$ como el mapeo de deformación (desconocido).\n",
    "- $\\bar{\\varphi}:\\partial B_1\\to\\mathbb{R}^3$ como el mapeo de deformación preescrito en frontera Dirichlet.\n",
    "- $\\bar{T}: \\partial B_2\\to\\mathbb{R}^3$ como las tracciones prescritas en frontera Neumann.\n",
    "- $\\boldsymbol{P}\\in CT(2)$ como el primer tensor de Piola-Kirchoff. \n",
    "- $\\boldsymbol{B}: B_0 \\to \\mathbb{R}^3$ como la densidad material de fuerzas de cuerpo.\n",
    "- $u := \\boldsymbol{\\varphi} - \\mathrm{id}$ como el mapeo de desplazamientos.\n",
    "\n",
    "Recordemos que para un material hiperelástico nuestra ley constitutiva será $\\boldsymbol{P}=\\frac{\\partial W}{\\partial \\boldsymbol{F}}$, donde $W(\\boldsymbol{F})$ es la densidad de energía de deformación por unidad de volumen. Del balance de la formulación material y del balance de momentum lineal, el problema fuerte se define como sigue: encontrar $\\boldsymbol{\\varphi}\\in H^2(B_0,\\mathbb{R}^3)$ tal que\n",
    "\n",
    "\\begin{align}\n",
    "    & \\nabla_0 \\cdot \\boldsymbol{P} + R \\boldsymbol{B} = 0 \\quad && \\forall \\boldsymbol{X}\\in B_0 \\\\\n",
    "    & \\boldsymbol{P} = \\frac{\\partial W}{\\partial F}, \\quad && \\forall \\boldsymbol{X}\\in B_0 \\\\\n",
    "    &\\boldsymbol{\\varphi}(\\boldsymbol{X}) = \\bar{\\boldsymbol{\\varphi}}(\\boldsymbol{X}),\\quad && \\forall \\boldsymbol{X}\\in\\partial B_1 \\\\\n",
    "    & \\boldsymbol{PN}=\\bar{\\boldsymbol{T}},\\quad && \\forall\\mathbf{X}\\in\\partial B_2 \\\\\n",
    "\\end{align}\n",
    "\n",
    "donde $\\partial B=\\partial B_1\\cup\\partial B_2$ y $\\partial B_1\\cap\\partial B_2=\\emptyset$. $\\partial B_1$ se denomina la frontera Dirichlet, porque en ella se preescribe el valor directo de la función que estamos estimando ($\\boldsymbol{\\varphi}$), y esto es una condición de borde de Dirichlet. $\\partial B_2$ se denomina la frontera Neumann, pues en ella se preescrible el valor de la derivada normal de la función que estamos estimando ($\\boldsymbol{F}$ aparece a través de $\\boldsymbol{PN}$), y esto es una condición de borde de Neumann.\n",
    "\n",
    "Para solucionar este problema, utilizaremos el principio de trabajos virtuales descrito en la clase 12, pero le haremos una pequeña modificación. \n",
    "\n",
    "Un mapeo de deformación $\\boldsymbol{\\varphi}: B_0 \\to\\mathbb{R}^3$ resuelve el problema de elasticidad no lineal si y solo si para este se cumple el principio de los trabajos virtuales\n",
    "\n",
    "$$\n",
    "\\int_{B_0}\\boldsymbol{P}(\\nabla_0\\boldsymbol{\\varphi}) : \\nabla_0\\boldsymbol{\\eta} \\,  \\mathrm{d}\\boldsymbol{X} - \\int_{B_0} R \\boldsymbol{B} \\cdot \\boldsymbol{\\eta} \\, \\mathrm{d}\\boldsymbol{X} - \\int_{\\partial B_2} \\bar{\\boldsymbol{T}} \\cdot \\boldsymbol{\\eta} \\, \\mathrm{d} S = 0 \\qquad \\forall\\boldsymbol{\\eta} \\in \\mathcal{V} \\text{.}\n",
    "$$\n",
    "\n",
    "Se puede demostrar (se ve en cursos como Elementos Finitos o Mecánica del Continuo) que la solución $\\boldsymbol{\\varphi}$ del PTV es de hecho la solución de un problema de optimización, que corresponde a minimizar un funcional de energía. Para esto solo definiremos el espacio de funciones de prueba $\\mathcal{S} := \\{\\boldsymbol{\\varphi} \\in H^1(B_0,\\mathbb{R}^3) \\mid  \\left.\\boldsymbol{\\varphi}\\right\\rvert_{\\partial B_1} = \\bar{\\boldsymbol{\\varphi}}\\}$ y la energía potencial de un cuerpo\n",
    "\n",
    "$$\n",
    "\\Pi[\\boldsymbol{\\varphi}] := \\int_{B_0} W(\\boldsymbol{F}) \\, \\mathrm{d}\\boldsymbol{X} - \\int_{B_0} R \\boldsymbol{B}\\cdot \\boldsymbol{\\varphi} \\, \\mathrm{d}\\boldsymbol{X} - \\int_{\\partial B_2} \\bar{\\boldsymbol{T}} \\cdot \\boldsymbol{\\varphi} \\, \\mathrm{d}S\n",
    "$$\n",
    "\n",
    "por lo que nuestro objetivo será encontrar un mapeo de deformación $\\boldsymbol{\\varphi}\\in\\mathcal{S}$ que minimice el potencial de energía $\\Pi[\\boldsymbol{\\varphi}]$:\n",
    "\n",
    "$$\n",
    "\\min_{\\boldsymbol{\\varphi}\\in\\mathcal{S}}\\Pi[\\boldsymbol{\\varphi}]\n",
    "$$"
   ]
  },
  {
   "cell_type": "markdown",
   "metadata": {},
   "source": [
    "Adoptaremos una densidad de energía de deformación para material neo-hookeano\n",
    "\n",
    "$$\n",
    "W(F)=\\frac{\\mu}{2}(tr(C)-3)-\\mu \\ln(J)+\\frac{\\lambda}{2}\\ln(J)^2\n",
    "$$\n",
    "\n",
    "con parámetros de Lamé\n",
    "\n",
    "$$\n",
    "\\lambda= \\frac{E\\nu}{(1+\\nu)(1-2\\nu)}, \\qquad \\mu=\\frac{E}{2(1+\\nu)}\n",
    "$$\n",
    "\n",
    "donde $E$ es el modulo de Young y $\\nu$ el coeficiente de Poisson."
   ]
  },
  {
   "cell_type": "markdown",
   "metadata": {},
   "source": [
    "### Solución numérica con elementos finitos\n",
    "\n",
    "Solucionaremos el problema de hiperelasticidad en un cuboide rectangular de dimensiones $3\\times 1\\times 1$ (dominio $B_0\\in\\mathbb{R}^3$), donde la densidad material de fuerzas de cuerpo será una constante negativa sobre el eje $z$. El objeto estará empotrado por lo que tendrá desplazamientos preescritos nulos en la frontera $x=0$ y una torsión en la frontera $x=3$. Tendrá tracciones preescritas en la frontera superior $z=1$.\n",
    "\n",
    "$$\\mathbf{B}= (0,0,0)$$\n",
    "\n",
    "$$u_0 = (0,0,0)$$\n",
    "\n",
    "$$u_1 = (0,\\quad0.5+(y-0.5)\\cos(\\pi/3))-(z-0.5)\\sin(\\pi/3)-y)/2,\\quad0.5+(y-0.5)\\sin(\\pi/3))+(z-0.5)\\cos(\\pi/3)-y)/2)$$\n",
    "\n",
    "$$\\bar{T}= (0,0,20 \\sin(\\pi x)),\\qquad E=1e3,\\qquad \\nu=0.4$$"
   ]
  },
  {
   "cell_type": "markdown",
   "metadata": {},
   "source": [
    "Comenzamos importando `dolfin`, la librería principal. Podemos opcionalmente cambiar parámetros de _back-end_ para mejorar la optimización del problema."
   ]
  },
  {
   "cell_type": "code",
   "execution_count": 1,
   "metadata": {},
   "outputs": [],
   "source": [
    "from dolfin import *\n",
    "\n",
    "# Opciones de optimización para el compilador\n",
    "q_degree = 3\n",
    "parameters[\"form_compiler\"][\"quadrature_degree\"] = q_degree\n",
    "parameters[\"form_compiler\"][\"cpp_optimize\"] = True\n",
    "parameters[\"form_compiler\"][\"representation\"] = \"uflacs\""
   ]
  },
  {
   "cell_type": "markdown",
   "metadata": {},
   "source": [
    "Generamos nuestro dominio."
   ]
  },
  {
   "cell_type": "code",
   "execution_count": 2,
   "metadata": {},
   "outputs": [],
   "source": [
    "# BoxMesh: Puntos de esquinas opuestas y numero de elementos en cada direccion\n",
    "# 21 elementos en x, 7 en y y 7 en z\n",
    "\n",
    "x_length = 3.0\n",
    "mesh = BoxMesh(\n",
    "    Point(0, 0, 0), Point(x_length, 1, 1), 21, 7, 7\n",
    ")"
   ]
  },
  {
   "cell_type": "markdown",
   "metadata": {},
   "source": [
    "Ahora debemos definir el espacio de funciones de prueba ($\\mathcal{S}$). Es de resaltar que en el caso de hiperelasticidad la dimensión del problema cambia, por lo que pasamos de un espacio de funciones escalares a un espacio vectorial."
   ]
  },
  {
   "cell_type": "code",
   "execution_count": 3,
   "metadata": {},
   "outputs": [],
   "source": [
    "# Espacio de funciones a R^3 (Vector), sobre la malla (mesh),\n",
    "# afín a tramos (polinomios de Langrange de grado 1)\n",
    "\n",
    "S = VectorFunctionSpace(mesh, \"Lagrange\", 1)"
   ]
  },
  {
   "cell_type": "markdown",
   "metadata": {},
   "source": [
    "Definimos las expresiones de borde del problema."
   ]
  },
  {
   "cell_type": "code",
   "execution_count": 4,
   "metadata": {},
   "outputs": [],
   "source": [
    "# Funciones de las fronteras y fuente\n",
    "ubar0 = Expression((\"0.0\",\"0.0\",\"0.0\"), degree=1)\n",
    "\n",
    "ubar1 = Expression(\n",
    "    (\"0.0\", \n",
    "    \"scale*(y0 + (x[1] - y0)*cos(theta) - (x[2] - z0)*sin(theta) - x[1])\",\n",
    "    \"scale*(z0 + (x[1] - y0)*sin(theta) + (x[2] - z0)*cos(theta) - x[2])\"),\n",
    "    scale = 0.5, y0 = 0.5, z0 = 0.5, theta = pi/2, degree=1\n",
    ")\n",
    "\n",
    "Tbar = Expression((\"0.0\",\"0.0\",\"20*sin(pi*x[0])\"), degree=1)\n",
    "RB = Constant((0.0, 0.0, 0.0))"
   ]
  },
  {
   "cell_type": "markdown",
   "metadata": {},
   "source": [
    "Creamos las tres fronteras. Las fronteras de Dirichlet son agrupadas en una lista."
   ]
  },
  {
   "cell_type": "code",
   "execution_count": 5,
   "metadata": {},
   "outputs": [],
   "source": [
    "# Clases de las fronteras: se declaran todas las fronteras\n",
    "# y se les ponen nombres segun su tipo. Noten que son clases que heredan de\n",
    "# SubDomain, una clase madre que viene de dolfin.\n",
    "# on_boundary es el espacio sobre toda la frontera, al ponerlo en conjunción\n",
    "# con near(), están marcando las caras del borde que cumplan con la condición\n",
    "# de estar cerca de lo que dicen.\n",
    "\n",
    "class BoundaryDir0(SubDomain):\n",
    "    def inside(self, x, on_boundary):\n",
    "        return on_boundary and near(x[0], 0)\n",
    "    \n",
    "class BoundaryDir1(SubDomain):\n",
    "    def inside(self, x, on_boundary):\n",
    "        return on_boundary and near(x[0], x_length)\n",
    "    \n",
    "class BoundaryNeu(SubDomain):\n",
    "    def inside(self, x, on_boundary):\n",
    "        return on_boundary and near(x[2], 1)"
   ]
  },
  {
   "cell_type": "code",
   "execution_count": 6,
   "metadata": {},
   "outputs": [],
   "source": [
    "# Este comando asigna la etiqueta 0 a todas las fronteras\n",
    "boundaries = MeshFunction(\"size_t\", mesh, mesh.topology().dim()-2)\n",
    "boundaries.set_all(0)\n",
    "\n",
    "# Ahora asignamos las condiciones de borde en las respectivas fronteras\n",
    "\n",
    "Dir_Boundary0 = BoundaryDir0()\n",
    "Dir0 = DirichletBC(S, ubar0, Dir_Boundary0)  # Asigna ubar0 a Dir_Boundary0\n",
    "\n",
    "Dir_Boundary1 = BoundaryDir1()\n",
    "Dir1 = DirichletBC(S, ubar1, Dir_Boundary1)\n",
    "BC = [Dir0, Dir1]\n",
    "\n",
    "# La condición de Neumann no se asigna: aparece en la formulación integral\n",
    "\n",
    "Neu_Boundary = BoundaryNeu()\n",
    "Neu_Boundary.mark(boundaries, 0)"
   ]
  },
  {
   "cell_type": "markdown",
   "metadata": {},
   "source": [
    "Definimos nuestras expresiones cinemáticas."
   ]
  },
  {
   "cell_type": "code",
   "execution_count": 7,
   "metadata": {},
   "outputs": [],
   "source": [
    "# Cinematica\n",
    "u = Function(S)  # Instanciamos la función\n",
    "d = len(u)  # Dimension del dominio\n",
    "I = Identity(d)  # Tensor identidad\n",
    "F = I + grad(u)  # Tensor gradiente de deformación\n",
    "C = F.T*F  # Tensor derecho de Cauchy-Green \n",
    "\n",
    "Ic = tr(C)  # Primer invariante\n",
    "J = det(F)  # Jacobiano\n",
    "\n",
    "#Parámetros de Lame\n",
    "E = 1e3\n",
    "nu = 0.4  # ¡No es incompresible! La incompresibilidad trae problemas\n",
    "\n",
    "mu = Constant(E/(2*(1 + nu)))  # Constant es para definir campos constantes\n",
    "lmbda = Constant(E*nu/((1 + nu)*(1 - 2*nu)))\n",
    "\n",
    "# Densidad de energia de deformación (compresible neo-Hookeano)\n",
    "W = (mu/2)*(Ic - 3) - mu*ln(J) + (lmbda/2)*(ln(J))**2"
   ]
  },
  {
   "cell_type": "markdown",
   "metadata": {},
   "source": [
    "Definimos nuestro potencial de energía."
   ]
  },
  {
   "cell_type": "code",
   "execution_count": 8,
   "metadata": {},
   "outputs": [],
   "source": [
    "# Diferencial de superficie. ds ya está definido, pero lo redefinimos para\n",
    "# poder integrar sobre la partición de nuestro borde\n",
    "ds = Measure('ds', domain=mesh, subdomain_data=boundaries)\n",
    "\n",
    "# Energía potencial, con la integral sobre el borde\n",
    "Pi = W*dx - dot(RB, u)*dx - dot(Tbar, u)*ds(0)"
   ]
  },
  {
   "cell_type": "markdown",
   "metadata": {},
   "source": [
    "Aquí es donde se hace más notable la diferencia del problema de Poisson (el problema más fácil de resolver, que pueden ver en el tutorial de FEniCS) con el de hiperelasticidad. En el problema de Poisson resolvemos el sistema de ecuaciones lineales que quedan luego de discretizar nuestra formulación variacional. En el caso de hiperelasticidad, lo que queremos es encontrar el campo de desplazamientos que minimice el potencial $\\Pi$ (un problema de optimización)."
   ]
  },
  {
   "cell_type": "code",
   "execution_count": 9,
   "metadata": {},
   "outputs": [],
   "source": [
    "# Definimos nuestro problema variacional\n",
    "du = TrialFunction(S)\n",
    "v = TestFunction(S)  # Los \\nu\n",
    "\n",
    "# Primera variación (derivada direccional) de Pi\n",
    "dPi = derivative(Pi, u, v)\n",
    "\n",
    "# Jacobiano de dPi\n",
    "J = derivative(dPi, u, du)\n",
    "\n",
    "# Resolver el problema: optimización es \"derivada = 0\"\n",
    "solve(dPi == 0, u, BC, J=J)\n"
   ]
  },
  {
   "cell_type": "markdown",
   "metadata": {},
   "source": [
    "Luego de correr la línea anterior, `u` es ahora un objeto que contiene la función aproximada de $u$ sobre la malla. Por último, podremos almacenar nuestra solución en formato `.pvd`/`.vtu`/`.vtk`, que nos permitirá visualizar la información en ParaView. Para esto la proyectamos nuevamente a un espacio que cumpla con $H^1(\\Omega,\\mathbb{R})$ (la guardamos como una función \"bonita\" con \"buenas\" derivadas)."
   ]
  },
  {
   "cell_type": "code",
   "execution_count": 10,
   "metadata": {},
   "outputs": [],
   "source": [
    "disp = project(u, VectorFunctionSpace(mesh, 'Lagrange', 1))  # Desplazamiento\n",
    "disp.rename('u_field', 'u_field')\n",
    "\n",
    "file = File(\"Hiper_disp.pvd\")  # Nombre del archivo\n",
    "file << disp  # Guardar la información"
   ]
  },
  {
   "cell_type": "markdown",
   "metadata": {},
   "source": [
    "Con el campo de desplazamientos podemos obtener el primer tensor de Piola-Kirchhoff, el tensor de tensiones de Cauchy y las tensiones de von Mises (entre otras cosas). Recuerden que el primer tensor esta en configuración material, mientras que el segundo esta en configuración deformada. Para esto necesitamos definimos nuevamente nuestra cinemática, pero con el cambio ya conocido."
   ]
  },
  {
   "cell_type": "code",
   "execution_count": 11,
   "metadata": {},
   "outputs": [],
   "source": [
    "# Cinematica\n",
    "uu = project(u, VectorFunctionSpace(mesh, 'DG', 1))  # D de discontinuo\n",
    "F = I + grad(uu)  # Tensor gradiente de deformación\n",
    "F = variable(F)\n",
    "\n",
    "J = project(det(F), FunctionSpace(mesh, 'DG', 1))  # Ahora J es un campo\n",
    "\n",
    "# Densidad de energia de deformacion (compresible neo-Hookeano)\n",
    "W = (mu/2)*(tr(F.T*F)-3) - mu*ln(det(F)) + (lmbda/2)*(ln(det(F)))**2\n",
    "\n",
    "# Definición de tensores\n",
    "P = diff(W, F)  # Primer tensor PK, ¡computado de manera simbólica!\n",
    "sigma = J**-1*P*F.T\n",
    "\n",
    "# Tensiones de von Mises\n",
    "s = sigma - (1. / 3.)*tr(sigma)*I  # Componente deviatórica\n",
    "von_mises = sqrt(3. / 2.*inner(s, s))  # Tensión de von Mises como campo"
   ]
  },
  {
   "cell_type": "markdown",
   "metadata": {},
   "source": [
    "Finalmente, almacenamos nuestras soluciones."
   ]
  },
  {
   "cell_type": "code",
   "execution_count": 12,
   "metadata": {},
   "outputs": [],
   "source": [
    "# Primer tensor de Piola-kirchhoff\n",
    "PK = project(P, TensorFunctionSpace(mesh, 'DG', 0))  # Constante a trozos\n",
    "PK.rename('stress_P', 'stress_P')\n",
    "pvd = File('Hiper_PK.pvd')\n",
    "pvd << PK\n",
    "\n",
    "# Tensor de tensiones\n",
    "sigma = project(sigma, TensorFunctionSpace(mesh, 'DG', 0))\n",
    "sigma.rename('stress_sigma', 'stress_sigma')\n",
    "pvd = File('Hiper_sigma.pvd')\n",
    "pvd << sigma\n",
    "\n",
    "# Tensiones de von Mises\n",
    "von_mises = project(von_mises, FunctionSpace(mesh, 'DG', 0))\n",
    "von_mises.rename('von_mises', 'von_mises')\n",
    "pvd = File('Hiper_vm.pvd')\n",
    "pvd << von_mises"
   ]
  }
 ],
 "metadata": {
  "kernelspec": {
   "display_name": "Python 3",
   "language": "python",
   "name": "python3"
  },
  "language_info": {
   "codemirror_mode": {
    "name": "ipython",
    "version": 3
   },
   "file_extension": ".py",
   "mimetype": "text/x-python",
   "name": "python",
   "nbconvert_exporter": "python",
   "pygments_lexer": "ipython3",
   "version": "3.7.8"
  }
 },
 "nbformat": 4,
 "nbformat_minor": 4
}
