{
 "cells": [
  {
   "cell_type": "markdown",
   "metadata": {
    "slideshow": {
     "slide_type": "slide"
    }
   },
   "source": [
    "# 💘 Ayudantía 5: Ajuste de mínimos cuadrados\n",
    "\n",
    "## Pablo Zurita Soler (pzurita@uc.cl)"
   ]
  },
  {
   "cell_type": "markdown",
   "metadata": {
    "slideshow": {
     "slide_type": "slide"
    }
   },
   "source": [
    "Muchas veces, vamos a tener un modelo físico que, sujeto a parámetros, **creemos que** determina algún fenómeno. Esta situación puede representarse abstractamente por\n",
    "\n",
    "\\begin{align}\n",
    "    f : V \\times \\Theta & \\to W \\\\\n",
    "    (\\boldsymbol{x}, \\boldsymbol{\\theta}) & \\mapsto \\boldsymbol{y}\n",
    "\\end{align}\n",
    "\n",
    "es decir, $f$ es nuestro modelo que dado un _input_ $\\boldsymbol{x}$ y ciertos parámetros representados como entradas de un vector $\\boldsymbol{\\theta}$, entregue un _output_ $\\boldsymbol{y}$ que **creemos** que refleja la realidad. Un problema común en ciencias e ingeniería es, dados ciertos datos $\\{(\\boldsymbol{x}_{i}, \\boldsymbol{y}_{i})\\}_{i}$ intentar determinar qué parámetros de mi modelo son necesarios para que este pueda representar (de mejor manera) el fenómeno que dio paso a esos datos."
   ]
  },
  {
   "cell_type": "markdown",
   "metadata": {
    "slideshow": {
     "slide_type": "slide"
    }
   },
   "source": [
    "Hay muchas maneras de aproximarse a este [**problema inverso**](https://en.wikipedia.org/wiki/Inverse_problem) de determinar qué se necesita para producir el _output_. La que vamos a explorar aquí es una de las más simples, y es una que, de hecho, probablemente ya han utilizado: **mínimos cuadrados**."
   ]
  },
  {
   "cell_type": "markdown",
   "metadata": {
    "slideshow": {
     "slide_type": "slide"
    }
   },
   "source": [
    "La idea es la siguiente: dado que queremos reproducir los datos, podemos definir el error de nuestra estimación, dado un input $\\boldsymbol{x}_{i}$ como\n",
    "\n",
    "$$\n",
    "    e_{i} := \\lVert f(\\boldsymbol{x}_{i}, \\boldsymbol{\\theta}) - \\boldsymbol{y}_{i} \\rVert\n",
    "$$\n",
    "\n",
    "y luego queremos encontrar los parámetros que **minimizan** el error. Si $W \\subset \\mathbb{R}$, lo anterior es equivalente a\n",
    "\n",
    "$$\n",
    "    \\min_{\\boldsymbol{\\theta}} \\lvert f(\\boldsymbol{x}_{i}, \\boldsymbol{\\theta}) - y_{i} \\rvert^{2}\n",
    "$$\n",
    "\n",
    "y si queremos que esto suceda para todas las observaciones, tenemos entonces\n",
    "\n",
    "$$\n",
    "    \\min_{\\boldsymbol{\\theta}} \\sum_{i} \\lvert f(\\boldsymbol{x}_{i}, \\boldsymbol{\\theta}) - y_{i} \\rvert^{2} \\text{.}\n",
    "$$"
   ]
  },
  {
   "cell_type": "markdown",
   "metadata": {
    "slideshow": {
     "slide_type": "slide"
    }
   },
   "source": [
    "Este es un problema de optimización que en muchas ocasiones es \"bien portado\". Esto es, se puede resolver de diversas maneras distintas con relativa confianza en que la solución es buena. Si las funciones son lineales, por ejemplo, ustedes probablemente resolvieron este problema en Álgebra Lineal utilizando proyección ortogonal."
   ]
  },
  {
   "cell_type": "markdown",
   "metadata": {
    "slideshow": {
     "slide_type": "slide"
    }
   },
   "source": [
    "Nosotros resolveremos este problema de manera numérica haciendo uso de la librería `scipy`, en específico su módulo `scipy.optimize`. Consideremos el siguiente ejemplo. Imaginemos que\n",
    "\n",
    "$$\n",
    "    f(x, \\boldsymbol{\\theta}) = \\theta_{1} - \\left( x - \\frac{\\theta_{2}}{x^{2}} \\right)\n",
    "$$\n",
    "\n",
    "y que tenemos datos\n",
    "\n",
    "$$\n",
    "    \\mathbf{y} = (0, 0.008936176, 0.01787232, 0.02382976, 0.04765952) \\text{.}\n",
    "$$\n",
    "\n",
    "asociados a los puntos\n",
    "\n",
    "$$\n",
    "    \\mathbf{x} = (0, 0.0097561, 0.0184669, 0.023345, 0.0348432)\n",
    "$$"
   ]
  },
  {
   "cell_type": "code",
   "execution_count": 1,
   "metadata": {
    "slideshow": {
     "slide_type": "slide"
    }
   },
   "outputs": [],
   "source": [
    "import scipy.optimize as sp\n",
    "import numpy as np\n",
    "import matplotlib.pyplot as plt\n",
    "plt.style.use('seaborn')"
   ]
  },
  {
   "cell_type": "code",
   "execution_count": 2,
   "metadata": {
    "slideshow": {
     "slide_type": "slide"
    }
   },
   "outputs": [],
   "source": [
    "y_data = np.array([0.008936176, 0.01787232, 0.02382976, 0.04765952])\n",
    "x_data = np.array([0.0097561, 0.0184669, 0.023345, 0.0348432])\n",
    "\n",
    "def f(c, x):\n",
    "    c1, c2 = c\n",
    "    return c1 - (x - (c2/x**2))"
   ]
  },
  {
   "cell_type": "markdown",
   "metadata": {
    "slideshow": {
     "slide_type": "slide"
    }
   },
   "source": [
    "La función `leastsq` del módulo `scipy.optimize` realiza optimización numérica sobre el problema de mínimos cuadrados dado un planteamiento como el anterior. La optimización numérica utiliza un punto de partida (y, en general, este punto de partida puede afectar el resultado de la optimización). Por ahora, escojamos arbitrariamente un vector inicial, las propiedades del problema, y las exigencias del curso, nos permiten tomarnos esos lujos. Debemos además definir el error."
   ]
  },
  {
   "cell_type": "code",
   "execution_count": 3,
   "metadata": {
    "slideshow": {
     "slide_type": "-"
    }
   },
   "outputs": [],
   "source": [
    "c_0 = [1, 1]\n",
    "\n",
    "def error(c, x, y):\n",
    "    return abs(y - f(c, x))"
   ]
  },
  {
   "cell_type": "markdown",
   "metadata": {
    "slideshow": {
     "slide_type": "slide"
    }
   },
   "source": [
    "Ahora, llamando a la función, podemos encontrar el óptimo."
   ]
  },
  {
   "cell_type": "code",
   "execution_count": 4,
   "metadata": {
    "slideshow": {
     "slide_type": "-"
    }
   },
   "outputs": [],
   "source": [
    "c_fit, cov_c = sp.leastsq(func=error, x0=c_0, args=(x_data, y_data))"
   ]
  },
  {
   "cell_type": "markdown",
   "metadata": {
    "slideshow": {
     "slide_type": "-"
    }
   },
   "source": [
    "`c_fit` retorna los parámetros ajustados, y `cov_c` retorna una medida de la geometría del punto óptimo encontrado (Para les curioses, busquen en la documentación qué significa. Es una matriz Hessiana inversa, pero eso interesa más en cursos de optimización que aquí)."
   ]
  },
  {
   "cell_type": "code",
   "execution_count": 5,
   "metadata": {
    "slideshow": {
     "slide_type": "-"
    }
   },
   "outputs": [
    {
     "data": {
      "text/plain": [
       "array([ 6.59279319e-02, -4.90786933e-06])"
      ]
     },
     "execution_count": 5,
     "metadata": {},
     "output_type": "execute_result"
    }
   ],
   "source": [
    "c_fit"
   ]
  },
  {
   "cell_type": "markdown",
   "metadata": {
    "slideshow": {
     "slide_type": "slide"
    }
   },
   "source": [
    "Podemos visualizar lo que sucedió ahora gráficamente, pues podemos **simular** utilizando los parámetros ajustados."
   ]
  },
  {
   "cell_type": "code",
   "execution_count": 7,
   "metadata": {
    "slideshow": {
     "slide_type": "slide"
    }
   },
   "outputs": [
    {
     "data": {
      "image/png": "[encoded data removed]",
      "text/plain": [
       "<Figure size 576x396 with 1 Axes>"
      ]
     },
     "metadata": {},
     "output_type": "display_data"
    }
   ],
   "source": [
    "plt.figure()\n",
    "plt.plot(x_data, y_data, label='data')\n",
    "plt.plot(x_data, f(c_fit, x_data), label='modelo ajustado')\n",
    "plt.legend()\n",
    "plt.show()"
   ]
  },
  {
   "cell_type": "markdown",
   "metadata": {
    "slideshow": {
     "slide_type": "slide"
    }
   },
   "source": [
    "De este gráfico podemos ver que nuestro modelo funcionó... bastante mal. De esto tendríamos que concluir que, a la luz de los datos **disponibles**, $f$ no es un buen modelo del comportamiento visto en los datos. ¿Quizás hay otro modelo que sirva mejor?"
   ]
  },
  {
   "cell_type": "code",
   "execution_count": 8,
   "metadata": {
    "slideshow": {
     "slide_type": "slide"
    }
   },
   "outputs": [],
   "source": [
    "def g(c, x):\n",
    "    return c[0] + c[1]*x + c[2]*x**2\n",
    "\n",
    "c_0 = [1, 1, 1]\n",
    "\n",
    "def error_g(c, x, y):\n",
    "    return abs(y - g(c, x))\n",
    "\n",
    "c_fit_g, cov_c = sp.leastsq(func=error_g, x0=c_0, args=(x_data, y_data))"
   ]
  },
  {
   "cell_type": "markdown",
   "metadata": {
    "slideshow": {
     "slide_type": "slide"
    }
   },
   "source": [
    "Veamos que pasa con este **modelo cuadrático**."
   ]
  },
  {
   "cell_type": "code",
   "execution_count": 9,
   "metadata": {
    "scrolled": true,
    "slideshow": {
     "slide_type": "-"
    }
   },
   "outputs": [
    {
     "data": {
      "text/plain": [
       "array([ 6.26561648e-03, -6.27063686e-02,  3.58291785e+01])"
      ]
     },
     "execution_count": 9,
     "metadata": {},
     "output_type": "execute_result"
    }
   ],
   "source": [
    "c_fit_g"
   ]
  },
  {
   "cell_type": "code",
   "execution_count": 10,
   "metadata": {
    "slideshow": {
     "slide_type": "slide"
    }
   },
   "outputs": [
    {
     "data": {
      "image/png": "[encoded data removed]",
      "text/plain": [
       "<Figure size 576x396 with 1 Axes>"
      ]
     },
     "metadata": {},
     "output_type": "display_data"
    }
   ],
   "source": [
    "plt.figure()\n",
    "plt.plot(x_data, y_data, label='data')\n",
    "plt.plot(x_data, g(c_fit_g, x_data), label='modelo ajustado')\n",
    "plt.legend()\n",
    "plt.show()"
   ]
  },
  {
   "cell_type": "markdown",
   "metadata": {
    "slideshow": {
     "slide_type": "slide"
    }
   },
   "source": [
    "¡Ajá! Pareciera que un modelo cuadrático captura bastante mejor el comportamiento de los datos. Por supuesto, esto **no significa mucho desde el punto de vista físico**. Recordemos que uno puede aproximar cualquier función real continua en un intervalo cerrado y acotado (compacto) arbitrariamente bien utilizando polinomios (los señores Weierstrass y Stone nos entregaron [este bello resultado](https://en.wikipedia.org/wiki/Stone%E2%80%93Weierstrass_theorem)), así que por supuesto que uno puede jugar con un modelo hasta ajustar perfecto a **cualquier conjunto de datos**. Lo que nos interesa (al menos a nosotros) es que un modelo con **interpretación física** se ajuste bien."
   ]
  }
 ],
 "metadata": {
  "celltoolbar": "Slideshow",
  "kernelspec": {
   "display_name": "Python 3.8.2 64-bit",
   "language": "python",
   "name": "python38264bit9c563057edff471fac51e4931dc5b693"
  },
  "language_info": {
   "codemirror_mode": {
    "name": "ipython",
    "version": 3
   },
   "file_extension": ".py",
   "mimetype": "text/x-python",
   "name": "python",
   "nbconvert_exporter": "python",
   "pygments_lexer": "ipython3",
   "version": "3.8.2"
  }
 },
 "nbformat": 4,
 "nbformat_minor": 4
}
