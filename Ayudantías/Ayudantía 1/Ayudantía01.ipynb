{
 "cells": [
  {
   "cell_type": "markdown",
   "metadata": {
    "slideshow": {
     "slide_type": "slide"
    }
   },
   "source": [
    "# 💻 Ayudantía 01: Introducción a LaTeX y Python\n",
    "\n",
    "## Pablo Zurita Soler (pzurita@uc.cl)\n",
    "\n",
    "Inspirado en tutoriales de Daniel Hurtado, Agustín Cox y Benjamín Villa."
   ]
  },
  {
   "cell_type": "markdown",
   "metadata": {
    "slideshow": {
     "slide_type": "slide"
    }
   },
   "source": [
    "En esta ayudantía veremos cómo usar Python para ayudarnos a resolver problemas científico-matemáticos conceptualmente.\n",
    "\n",
    "**Omisiones notables**: control de flujo y métodos numéricos (se ven bastante en otros cursos)"
   ]
  },
  {
   "cell_type": "markdown",
   "metadata": {
    "slideshow": {
     "slide_type": "slide"
    }
   },
   "source": [
    "# 💻+🔬 Computación científica"
   ]
  },
  {
   "cell_type": "markdown",
   "metadata": {
    "slideshow": {
     "slide_type": "slide"
    }
   },
   "source": [
    "Desde que tenemos (super)computadores, la **simulación** se sumó a la _teoría_ y la _experimentación_ como una forma fundamental de hacer ciencia. Estas tres no son excluyentes, más bien son parte de un proceso iterativo donde se apoyan entre sí."
   ]
  },
  {
   "cell_type": "markdown",
   "metadata": {
    "slideshow": {
     "slide_type": "slide"
    }
   },
   "source": [
    "Existen muchos lenguajes de programación con buena afinidad con computación científica. Clásicamente, existe C, Fortran, C++, MATLAB/Octave, entre otros. Últimamente ha surgido un poco de _buzz_ por Julia (tengan ojo con ese). Nosotros/as/es, por su versatilidad y accesibilidad, nos concentraremos en **Python**. Para hacer computación científica en Python, necesitaremos **NumPy**."
   ]
  },
  {
   "cell_type": "markdown",
   "metadata": {},
   "source": [
    "**Pero antes de empezar**, hay que enfatizar el saber Googlear y saber leer documentación."
   ]
  },
  {
   "cell_type": "markdown",
   "metadata": {
    "slideshow": {
     "slide_type": "slide"
    }
   },
   "source": [
    "# 🔢🐍 Fundamentos de NumPy"
   ]
  },
  {
   "cell_type": "markdown",
   "metadata": {
    "slideshow": {
     "slide_type": "slide"
    }
   },
   "source": [
    "## 💤 Lo básico: variables y números"
   ]
  },
  {
   "cell_type": "markdown",
   "metadata": {
    "slideshow": {
     "slide_type": "-"
    }
   },
   "source": [
    "En Python, se asignan valores a variables usando el operador `=`. Los números se tratan con muchos _tipos de datos_ distintos, pero los que probablemente conocen son `float` e `int` (¡hay otros!)."
   ]
  },
  {
   "cell_type": "code",
   "execution_count": null,
   "metadata": {
    "slideshow": {
     "slide_type": "slide"
    }
   },
   "outputs": [],
   "source": [
    "a = 2  # El valor 2 (int) está asignado a \"a\"\n",
    "b = 3.  # El valor 3 (float) está asignado a \"b\"\n",
    "c = b  # El valor referenciado por \"b\" está asignado a \"c\"\n",
    "\n",
    "b += a  # Se le reasigna a b su valor referenciado, más el referenciado en a\n",
    "c"
   ]
  },
  {
   "cell_type": "code",
   "execution_count": null,
   "metadata": {
    "slideshow": {
     "slide_type": "-"
    }
   },
   "outputs": [],
   "source": [
    "b"
   ]
  },
  {
   "cell_type": "markdown",
   "metadata": {
    "slideshow": {
     "slide_type": "slide"
    }
   },
   "source": [
    "Recordar que `*` es multiplicación y `**` es exponenciación, **no** `^`."
   ]
  },
  {
   "cell_type": "code",
   "execution_count": null,
   "metadata": {
    "slideshow": {
     "slide_type": "-"
    }
   },
   "outputs": [],
   "source": [
    "a*b"
   ]
  },
  {
   "cell_type": "code",
   "execution_count": null,
   "metadata": {
    "slideshow": {
     "slide_type": "-"
    }
   },
   "outputs": [],
   "source": [
    "a^b  # No va a funcionar"
   ]
  },
  {
   "cell_type": "code",
   "execution_count": null,
   "metadata": {
    "slideshow": {
     "slide_type": "-"
    }
   },
   "outputs": [],
   "source": [
    "a**b"
   ]
  },
  {
   "cell_type": "markdown",
   "metadata": {
    "slideshow": {
     "slide_type": "slide"
    }
   },
   "source": [
    "Nota histórica: en Python 2, `/` servía como dos operadores distintos. Si sus _inputs_ eran de tipo `int`, entregaba división parte entera (lo que ahora es `//`). Por esto, es costumbre de mucha gente instanciar todo como `float` aunque parezca innecesario."
   ]
  },
  {
   "cell_type": "code",
   "execution_count": null,
   "metadata": {
    "slideshow": {
     "slide_type": "-"
    }
   },
   "outputs": [],
   "source": [
    "a = 2\n",
    "b = 3\n",
    "\n",
    "a/b  # En Python 2, esto retorna 0. En Python 3, retorna 2/3"
   ]
  },
  {
   "cell_type": "code",
   "execution_count": null,
   "metadata": {
    "slideshow": {
     "slide_type": "-"
    }
   },
   "outputs": [],
   "source": [
    "a//b  # Esto era lo que retornaba (horrible, lo sé)"
   ]
  },
  {
   "cell_type": "markdown",
   "metadata": {
    "slideshow": {
     "slide_type": "slide"
    }
   },
   "source": [
    "NumPy extiende mucho las capacidades matemáticas de Python. En primer lugar, entrega muchas funciones predefinidas."
   ]
  },
  {
   "cell_type": "code",
   "execution_count": null,
   "metadata": {
    "slideshow": {
     "slide_type": "slide"
    }
   },
   "outputs": [],
   "source": [
    "import numpy as np  # Con esto se puede llamar a NumPy mediante el objeto np"
   ]
  },
  {
   "cell_type": "code",
   "execution_count": null,
   "metadata": {
    "slideshow": {
     "slide_type": "-"
    }
   },
   "outputs": [],
   "source": [
    "np.arctan(1)/np.pi"
   ]
  },
  {
   "cell_type": "markdown",
   "metadata": {
    "slideshow": {
     "slide_type": "slide"
    }
   },
   "source": [
    "## 📃 Arreglos"
   ]
  },
  {
   "cell_type": "markdown",
   "metadata": {
    "slideshow": {
     "slide_type": "slide"
    }
   },
   "source": [
    "La unidad básica de computación científica (numérica) son **arreglos** de números. Computacionalmente, son como listas, pero mejores 😊. Se generan llamando la función `array` sobre un objeto iterable."
   ]
  },
  {
   "cell_type": "code",
   "execution_count": null,
   "metadata": {
    "slideshow": {
     "slide_type": "-"
    }
   },
   "outputs": [],
   "source": [
    "mi_arreglo = np.array([1, 2, 3])\n",
    "mi_arreglo"
   ]
  },
  {
   "cell_type": "markdown",
   "metadata": {
    "slideshow": {
     "slide_type": "slide"
    }
   },
   "source": [
    "Los arreglos pueden ser $n$-dimensionales, lo que les entrega mucha versatilidad."
   ]
  },
  {
   "cell_type": "code",
   "execution_count": null,
   "metadata": {
    "slideshow": {
     "slide_type": "-"
    }
   },
   "outputs": [],
   "source": [
    "mi_segundo_arreglo = np.array([\n",
    "        [1, 2, 3],\n",
    "        [4, 5, 6]\n",
    "    ])\n",
    "mi_segundo_arreglo"
   ]
  },
  {
   "cell_type": "code",
   "execution_count": null,
   "metadata": {
    "slideshow": {
     "slide_type": "-"
    }
   },
   "outputs": [],
   "source": [
    "mi_segundo_arreglo.shape"
   ]
  },
  {
   "cell_type": "code",
   "execution_count": null,
   "metadata": {
    "slideshow": {
     "slide_type": "-"
    }
   },
   "outputs": [],
   "source": [
    "mi_segundo_arreglo.size"
   ]
  },
  {
   "cell_type": "markdown",
   "metadata": {
    "slideshow": {
     "slide_type": "slide"
    }
   },
   "source": [
    "Para generar un arreglo ordenado sirve la función `arange`."
   ]
  },
  {
   "cell_type": "code",
   "execution_count": null,
   "metadata": {
    "slideshow": {
     "slide_type": "-"
    }
   },
   "outputs": [],
   "source": [
    "mi_rango = np.arange(0, 2.1, 0.4)\n",
    "mi_rango"
   ]
  },
  {
   "cell_type": "code",
   "execution_count": null,
   "metadata": {
    "scrolled": true,
    "slideshow": {
     "slide_type": "-"
    }
   },
   "outputs": [],
   "source": [
    "rango_clásico = range(0, 2.1, 0.4)"
   ]
  },
  {
   "cell_type": "markdown",
   "metadata": {
    "slideshow": {
     "slide_type": "slide"
    }
   },
   "source": [
    "Recuerden que solo necesitan un iterable..."
   ]
  },
  {
   "cell_type": "code",
   "execution_count": null,
   "metadata": {
    "slideshow": {
     "slide_type": "-"
    }
   },
   "outputs": [],
   "source": [
    "mi_tercer_rango = np.array(range(10))  # ¡range retorna un objeto iterable!\n",
    "mi_tercer_rango"
   ]
  },
  {
   "cell_type": "markdown",
   "metadata": {
    "slideshow": {
     "slide_type": "slide"
    }
   },
   "source": [
    "Pero quizás van a usar más la función `linspace` que genera un arreglo **equiespaciado**."
   ]
  },
  {
   "cell_type": "code",
   "execution_count": null,
   "metadata": {
    "slideshow": {
     "slide_type": "-"
    }
   },
   "outputs": [],
   "source": [
    "x = np.linspace(0, 2.1, 10)\n",
    "x"
   ]
  },
  {
   "cell_type": "markdown",
   "metadata": {
    "slideshow": {
     "slide_type": "slide"
    }
   },
   "source": [
    "La mayoría de las operaciones aritméticas simples se pueden realizar con facilidad _element-wise_ (elemento a elemento) sobre arreglos."
   ]
  },
  {
   "cell_type": "code",
   "execution_count": null,
   "metadata": {
    "slideshow": {
     "slide_type": "-"
    }
   },
   "outputs": [],
   "source": [
    "y = 2*(x+3)\n",
    "y"
   ]
  },
  {
   "cell_type": "code",
   "execution_count": null,
   "metadata": {
    "slideshow": {
     "slide_type": "-"
    }
   },
   "outputs": [],
   "source": [
    "y = np.linspace(0, 1, 10)\n",
    "x+y"
   ]
  },
  {
   "cell_type": "markdown",
   "metadata": {
    "slideshow": {
     "slide_type": "slide"
    }
   },
   "source": [
    "Y por último debiesen tener ojo con la indexación."
   ]
  },
  {
   "cell_type": "code",
   "execution_count": null,
   "metadata": {
    "slideshow": {
     "slide_type": "-"
    }
   },
   "outputs": [],
   "source": [
    "mi_segundo_arreglo  # Todo"
   ]
  },
  {
   "cell_type": "code",
   "execution_count": null,
   "metadata": {
    "scrolled": true,
    "slideshow": {
     "slide_type": "-"
    }
   },
   "outputs": [],
   "source": [
    "mi_segundo_arreglo[0]  # El primer elemento (fila)"
   ]
  },
  {
   "cell_type": "code",
   "execution_count": null,
   "metadata": {
    "slideshow": {
     "slide_type": "-"
    }
   },
   "outputs": [],
   "source": [
    "mi_segundo_arreglo[0, 1]  # El elemento 1,2"
   ]
  },
  {
   "cell_type": "markdown",
   "metadata": {
    "slideshow": {
     "slide_type": "slide"
    }
   },
   "source": [
    "Mucho ojo..."
   ]
  },
  {
   "cell_type": "code",
   "execution_count": null,
   "metadata": {
    "slideshow": {
     "slide_type": "-"
    }
   },
   "outputs": [],
   "source": [
    "mi_segundo_arreglo[0, :]  # Fijo la primera dimensión y recorro la segunda"
   ]
  },
  {
   "cell_type": "code",
   "execution_count": null,
   "metadata": {
    "scrolled": true,
    "slideshow": {
     "slide_type": "-"
    }
   },
   "outputs": [],
   "source": [
    "mi_segundo_arreglo[-1]  # El último elemento (fila)"
   ]
  },
  {
   "cell_type": "code",
   "execution_count": null,
   "metadata": {
    "slideshow": {
     "slide_type": "-"
    }
   },
   "outputs": [],
   "source": [
    "mi_segundo_arreglo[:, 0]  # Fijo la segunda dimensión y recorro la primera"
   ]
  },
  {
   "cell_type": "code",
   "execution_count": null,
   "metadata": {
    "slideshow": {
     "slide_type": "-"
    }
   },
   "outputs": [],
   "source": [
    "mi_segundo_arreglo[:][0]  # Recorro los elementos y escojo el primero (!!!)"
   ]
  },
  {
   "cell_type": "markdown",
   "metadata": {
    "slideshow": {
     "slide_type": "slide"
    }
   },
   "source": [
    "## 💡 Un poco de álgebra lineal"
   ]
  },
  {
   "cell_type": "markdown",
   "metadata": {
    "slideshow": {
     "slide_type": "slide"
    }
   },
   "source": [
    "NumPy provee muchas funcionalidades **eficientes** de álgebra lineal."
   ]
  },
  {
   "cell_type": "code",
   "execution_count": null,
   "metadata": {
    "slideshow": {
     "slide_type": "-"
    }
   },
   "outputs": [],
   "source": [
    "A = np.matrix([\n",
    "    [1, 3, 5],\n",
    "    [3, 4, 2],\n",
    "    [5, 2, 0]\n",
    "])  # Subclase de array, pero fijado en 2D y con _syntax sugar_ para álgebra\n",
    "\n",
    "v = np.matrix([1, 0, 0])\n",
    "\n",
    "otro_v = np.array([1, 0, 0])"
   ]
  },
  {
   "cell_type": "code",
   "execution_count": null,
   "metadata": {
    "scrolled": true,
    "slideshow": {
     "slide_type": "slide"
    }
   },
   "outputs": [],
   "source": [
    "A"
   ]
  },
  {
   "cell_type": "code",
   "execution_count": null,
   "metadata": {
    "scrolled": true,
    "slideshow": {
     "slide_type": "-"
    }
   },
   "outputs": [],
   "source": [
    "v"
   ]
  },
  {
   "cell_type": "code",
   "execution_count": null,
   "metadata": {
    "scrolled": false,
    "slideshow": {
     "slide_type": "-"
    }
   },
   "outputs": [],
   "source": [
    "otro_v"
   ]
  },
  {
   "cell_type": "markdown",
   "metadata": {
    "slideshow": {
     "slide_type": "slide"
    }
   },
   "source": [
    "Permite realizar operaciones de forma eficiente por tener _back-end_ en C++. Algunas operaciones básicas..."
   ]
  },
  {
   "cell_type": "code",
   "execution_count": null,
   "metadata": {
    "scrolled": true,
    "slideshow": {
     "slide_type": "-"
    }
   },
   "outputs": [],
   "source": [
    "A.T  # Transpuesta fácil y rápida"
   ]
  },
  {
   "cell_type": "code",
   "execution_count": null,
   "metadata": {
    "scrolled": true,
    "slideshow": {
     "slide_type": "-"
    }
   },
   "outputs": [],
   "source": [
    "np.linalg.inv(A)  # Inversa eficiente, lo mismo que A.I"
   ]
  },
  {
   "cell_type": "markdown",
   "metadata": {
    "slideshow": {
     "slide_type": "slide"
    }
   },
   "source": [
    "Probemos multiplicaciones."
   ]
  },
  {
   "cell_type": "code",
   "execution_count": null,
   "metadata": {
    "slideshow": {
     "slide_type": "-"
    }
   },
   "outputs": [],
   "source": [
    "B = np.matrix([[1, 1, 1], [2, 2, 2], [3, 3, 3]])"
   ]
  },
  {
   "cell_type": "code",
   "execution_count": null,
   "metadata": {
    "scrolled": false,
    "slideshow": {
     "slide_type": "-"
    }
   },
   "outputs": [],
   "source": [
    "np.matmul(A, B)  # Multiplicación matricial"
   ]
  },
  {
   "cell_type": "code",
   "execution_count": null,
   "metadata": {
    "slideshow": {
     "slide_type": "-"
    }
   },
   "outputs": [],
   "source": [
    "A @ B  # Implementación rápida"
   ]
  },
  {
   "cell_type": "markdown",
   "metadata": {
    "slideshow": {
     "slide_type": "slide"
    }
   },
   "source": [
    "La función `dot` es la generalización del producto punto y el producto matriz-vector"
   ]
  },
  {
   "cell_type": "code",
   "execution_count": null,
   "metadata": {
    "slideshow": {
     "slide_type": "-"
    }
   },
   "outputs": [],
   "source": [
    "np.dot(v, otro_v)  # ¿matrix con array? Ningún problema, retorna matrix"
   ]
  },
  {
   "cell_type": "code",
   "execution_count": null,
   "metadata": {
    "slideshow": {
     "slide_type": "-"
    }
   },
   "outputs": [],
   "source": [
    "np.dot(A, v.T)  # Producto matriz-vector estándar, ajusta a dimensiones"
   ]
  },
  {
   "cell_type": "markdown",
   "metadata": {
    "slideshow": {
     "slide_type": "slide"
    }
   },
   "source": [
    "NumPy trata de hacerle la vida fácil a la gente, pero hay que tener ojo y leer bien la documentación"
   ]
  },
  {
   "cell_type": "code",
   "execution_count": null,
   "metadata": {
    "scrolled": true,
    "slideshow": {
     "slide_type": "-"
    }
   },
   "outputs": [],
   "source": [
    "np.dot(A, otro_v)  # ¿matrix con array? Ningún problema, retorna matrix"
   ]
  },
  {
   "cell_type": "code",
   "execution_count": null,
   "metadata": {
    "slideshow": {
     "slide_type": "-"
    }
   },
   "outputs": [],
   "source": [
    "np.dot(A, v)  # matrix con matrix -> ¡ajusta a dimensiones!"
   ]
  },
  {
   "cell_type": "markdown",
   "metadata": {
    "slideshow": {
     "slide_type": "slide"
    }
   },
   "source": [
    "¿Cuál es la diferencia entre `matrix` y `array`?"
   ]
  },
  {
   "cell_type": "code",
   "execution_count": null,
   "metadata": {
    "slideshow": {
     "slide_type": "-"
    }
   },
   "outputs": [],
   "source": [
    "A = np.array([[1, 2], [1, 2]])\n",
    "B = np.array([[1, 0], [0, 1]])\n",
    "A_matrix = np.asmatrix(A)\n",
    "B_matrix = np.asmatrix(B)"
   ]
  },
  {
   "cell_type": "code",
   "execution_count": null,
   "metadata": {
    "slideshow": {
     "slide_type": "-"
    }
   },
   "outputs": [],
   "source": [
    "A_matrix*B_matrix"
   ]
  },
  {
   "cell_type": "code",
   "execution_count": null,
   "metadata": {
    "scrolled": true,
    "slideshow": {
     "slide_type": "-"
    }
   },
   "outputs": [],
   "source": [
    "A*B"
   ]
  },
  {
   "cell_type": "markdown",
   "metadata": {
    "slideshow": {
     "slide_type": "slide"
    }
   },
   "source": [
    "¡Los `array` funcionan elemento a elemento con operadores simples por defecto, a diferencia de `matrix`!\n",
    "\n",
    "Lección: ser **consistente**. Hay básicamente tres opciones, mejor escoger una y quedarse con eso:\n",
    "1. Para matrices y vectores, siempre usar `matrix` (esta es la opción cuya sintaxis se parece más a la matemática)\n",
    "2. Usar `matrix` solo para matrices y usar `array` para vectores (esta opción es común)\n",
    "3. Solo usar `array` (esta es la opción sustentable y generalizable, pero implica acostumbrarse a usar métodos explíticos, como `np.dot` en vez de `*`)"
   ]
  },
  {
   "cell_type": "markdown",
   "metadata": {
    "slideshow": {
     "slide_type": "slide"
    }
   },
   "source": [
    "Otras cosas que se pueden hacer con matrices..."
   ]
  },
  {
   "cell_type": "code",
   "execution_count": null,
   "metadata": {
    "slideshow": {
     "slide_type": "-"
    }
   },
   "outputs": [],
   "source": [
    "detA = np.linalg.det(A)  # Determinante\n",
    "detA"
   ]
  },
  {
   "cell_type": "code",
   "execution_count": null,
   "metadata": {
    "slideshow": {
     "slide_type": "-"
    }
   },
   "outputs": [],
   "source": [
    "eigs = np.linalg.eig(A)  # Eigensystem, autovalores y autovectores\n",
    "eigs"
   ]
  },
  {
   "cell_type": "code",
   "execution_count": null,
   "metadata": {
    "slideshow": {
     "slide_type": "slide"
    }
   },
   "outputs": [],
   "source": [
    "eigs[0]  # Valores propios"
   ]
  },
  {
   "cell_type": "code",
   "execution_count": null,
   "metadata": {
    "slideshow": {
     "slide_type": "-"
    }
   },
   "outputs": [],
   "source": [
    "eigs[1]  # Vectores propios"
   ]
  },
  {
   "cell_type": "code",
   "execution_count": null,
   "metadata": {
    "slideshow": {
     "slide_type": "-"
    }
   },
   "outputs": [],
   "source": [
    "eigs[1][0]  # Vector propio del primer valor propio"
   ]
  },
  {
   "cell_type": "code",
   "execution_count": null,
   "metadata": {
    "slideshow": {
     "slide_type": "-"
    }
   },
   "outputs": [],
   "source": [
    "eig_vals = np.linalg.eigvals(A)  # Solo valores propios\n",
    "eig_vals"
   ]
  },
  {
   "cell_type": "markdown",
   "metadata": {
    "slideshow": {
     "slide_type": "slide"
    }
   },
   "source": [
    "Y tenemos herramientas para construir matrices"
   ]
  },
  {
   "cell_type": "code",
   "execution_count": null,
   "metadata": {
    "slideshow": {
     "slide_type": "-"
    }
   },
   "outputs": [],
   "source": [
    "I = np.eye(3)  # Identidad\n",
    "I"
   ]
  },
  {
   "cell_type": "code",
   "execution_count": null,
   "metadata": {
    "slideshow": {
     "slide_type": "-"
    }
   },
   "outputs": [],
   "source": [
    "D = np.diag([1, 2, 3])  # Crear una matriz diagonal a partir de un arreglo 1D\n",
    "D"
   ]
  },
  {
   "cell_type": "code",
   "execution_count": null,
   "metadata": {
    "slideshow": {
     "slide_type": "-"
    }
   },
   "outputs": [],
   "source": [
    "R = np.vstack([I, D])  # Juntar dos arreglos verticalmente (hstack para horizontal)\n",
    "R"
   ]
  },
  {
   "cell_type": "markdown",
   "metadata": {
    "slideshow": {
     "slide_type": "slide"
    }
   },
   "source": [
    "Por último, pero no menos importante, resolución (inocente) de sistemas lineales."
   ]
  },
  {
   "cell_type": "code",
   "execution_count": null,
   "metadata": {
    "slideshow": {
     "slide_type": "-"
    }
   },
   "outputs": [],
   "source": [
    "A = np.matrix([\n",
    "    [1, 2, 3],\n",
    "    [4, 0, 6],\n",
    "    [7, 8, 0]\n",
    "])\n",
    "\n",
    "v = np.matrix([\n",
    "    [1],\n",
    "    [2],\n",
    "    [3]\n",
    "])"
   ]
  },
  {
   "cell_type": "markdown",
   "metadata": {
    "slideshow": {
     "slide_type": "slide"
    }
   },
   "source": [
    "Recuerden: NumPy está escrito en C++ por detrás. Siempre que tengan que hacer algo y NumPy ofrezca una herramienta _específicamente diseñada para era tarea_, **usen eso**."
   ]
  },
  {
   "cell_type": "code",
   "execution_count": null,
   "metadata": {
    "slideshow": {
     "slide_type": "-"
    }
   },
   "outputs": [],
   "source": [
    "np.linalg.inv(A)*v  # No hagan esto, aunque sirva"
   ]
  },
  {
   "cell_type": "code",
   "execution_count": null,
   "metadata": {
    "slideshow": {
     "slide_type": "-"
    }
   },
   "outputs": [],
   "source": [
    "np.linalg.solve(A, v)  # Hagan esto"
   ]
  },
  {
   "cell_type": "markdown",
   "metadata": {
    "slideshow": {
     "slide_type": "slide"
    }
   },
   "source": [
    "## 🎈 Funciones"
   ]
  },
  {
   "cell_type": "markdown",
   "metadata": {
    "slideshow": {
     "slide_type": "slide"
    }
   },
   "source": [
    "Función matemática: objeto **abstracto** con representación (muy probablemente) **simbólica**\n",
    "\n",
    "\\begin{align}\n",
    "    f : \\mathbb{R} & \\to \\mathbb{R} \\\\\n",
    "    x & \\mapsto \\left( \\sin{x} \\right)^{3}\n",
    "\\end{align}\n",
    "\n",
    "equivale a \n",
    "\n",
    "$$\n",
    "    f(x) := \\left( \\sin{x} \\right)^{3}\n",
    "$$"
   ]
  },
  {
   "cell_type": "markdown",
   "metadata": {
    "slideshow": {
     "slide_type": "slide"
    }
   },
   "source": [
    "Función computacional: objeto **computacional** que dado un `input` entrega un `output`"
   ]
  },
  {
   "cell_type": "code",
   "execution_count": null,
   "metadata": {
    "slideshow": {
     "slide_type": "-"
    }
   },
   "outputs": [],
   "source": [
    "def f(x):\n",
    "    return np.sin(x)**3\n",
    "f"
   ]
  },
  {
   "cell_type": "code",
   "execution_count": null,
   "metadata": {
    "slideshow": {
     "slide_type": "-"
    }
   },
   "outputs": [],
   "source": [
    "def otro_f(x):\n",
    "    a = np.sin(x)\n",
    "    return a\n",
    "otro_f"
   ]
  },
  {
   "cell_type": "markdown",
   "metadata": {
    "slideshow": {
     "slide_type": "slide"
    }
   },
   "source": [
    "En computación **numérica** (NumPy, MATLAB, C++) representamos funciones como **arreglos de sus valores** (a diferencia de la computación simbólica como Mathematica, SymPy o Maple). Sería algo como\n",
    "\n",
    "$$\n",
    "    f_{i} := f(x_{i})\n",
    "$$\n",
    "\n",
    "para una sucesión\n",
    "\n",
    "$$\n",
    "    \\{x_{i}\\}_{i = 0}^{N-1}\n",
    "$$\n",
    "\n",
    "En el ejemplo de abajo, $x_{i} := \\frac{i}{100}$ y $N = 101$"
   ]
  },
  {
   "cell_type": "code",
   "execution_count": null,
   "metadata": {
    "scrolled": true,
    "slideshow": {
     "slide_type": "-"
    }
   },
   "outputs": [],
   "source": [
    "x = np.linspace(0, 1, 100)\n",
    "x.shape"
   ]
  },
  {
   "cell_type": "markdown",
   "metadata": {
    "slideshow": {
     "slide_type": "slide"
    }
   },
   "source": [
    "Y entonces **representamos** la función $f$ como un arreglo de valores"
   ]
  },
  {
   "cell_type": "code",
   "execution_count": null,
   "metadata": {
    "slideshow": {
     "slide_type": "-"
    }
   },
   "outputs": [],
   "source": [
    "f_array = f(x)\n",
    "f_array"
   ]
  },
  {
   "cell_type": "markdown",
   "metadata": {
    "slideshow": {
     "slide_type": "slide"
    }
   },
   "source": [
    "Noten que el significado **simbólico** de `f_array` está ligado a `x`, y si por ejemplo definimos"
   ]
  },
  {
   "cell_type": "code",
   "execution_count": null,
   "metadata": {
    "slideshow": {
     "slide_type": "-"
    }
   },
   "outputs": [],
   "source": [
    "y = np.linspace(-10, 10, 100)"
   ]
  },
  {
   "cell_type": "markdown",
   "metadata": {
    "slideshow": {
     "slide_type": "-"
    }
   },
   "source": [
    "Podríamos interpretar `f_array` como algo completamente distinto (lo veremos en un ratito). Lección: **lleven cuenta de cómo representan funciones** y **pónganles buenos nombres a sus variables**."
   ]
  },
  {
   "cell_type": "markdown",
   "metadata": {
    "slideshow": {
     "slide_type": "slide"
    }
   },
   "source": [
    "## 📈 Gráficos"
   ]
  },
  {
   "cell_type": "markdown",
   "metadata": {
    "slideshow": {
     "slide_type": "slide"
    }
   },
   "source": [
    "Hay varias elecciones de buenas librerías para gráficos que podemos usar en Python. La más popular, y la que usaremos nosotros, es Matplotlib."
   ]
  },
  {
   "cell_type": "code",
   "execution_count": null,
   "metadata": {
    "slideshow": {
     "slide_type": "-"
    }
   },
   "outputs": [],
   "source": [
    "import matplotlib.pyplot as plt\n",
    "#plt.style.use('classic')  # Protip: usen esto"
   ]
  },
  {
   "cell_type": "markdown",
   "metadata": {
    "slideshow": {
     "slide_type": "slide"
    }
   },
   "source": [
    "Pyplot es un módulo de Matplotlib que genera gráficos. La sintaxis básica es la siguiente, pero se puede complicar cuanto uno quiera.\n",
    "\n",
    "**Googlear lo que uno quiere hacer específicamente es buena idea, ojalá en inglés.** Además, siempre se puede preguntar 😁."
   ]
  },
  {
   "cell_type": "code",
   "execution_count": null,
   "metadata": {
    "slideshow": {
     "slide_type": "slide"
    }
   },
   "outputs": [],
   "source": [
    "plt.figure()  # Iniciar una figura\n",
    "plt.plot(x, f_array, label=r'$\\left(\\sin(x)\\right)^{3}$')  # x y f_array son args\n",
    "plt.plot(x, otro_f(x), label=r'$\\sin$ indirecto')  # label es un keyword kwargs\n",
    "plt.plot(x, np.sin(x), label=r'$\\sin$ directo')  # plot es una función\n",
    "#plt.xlim([-5,5])  # Modifica los límites del gráfico\n",
    "#plt.ylim([-1.2, 1.2])  # Modifica los límites del gráfico\n",
    "plt.xlabel(r'Eje $x$ (que se podría llamar $\\gamma$)')\n",
    "plt.ylabel(r'Eje $y$')\n",
    "plt.title(r'Gráficos')    # La \"r\" es para un \"raw string\"\n",
    "#plt.savefig('./grafico.pdf')  # Guardar (¡siempre como PDF!)\n",
    "plt.legend()"
   ]
  },
  {
   "cell_type": "markdown",
   "metadata": {
    "slideshow": {
     "slide_type": "slide"
    }
   },
   "source": [
    "¿Se acuerdan de lo que dijimos de la diferencia entre $f$ y su representación? Acá el ejemplo."
   ]
  },
  {
   "cell_type": "code",
   "execution_count": null,
   "metadata": {
    "slideshow": {
     "slide_type": "slide"
    }
   },
   "outputs": [],
   "source": [
    "plt.figure()\n",
    "plt.plot(y, f_array, label=r'f_array contra x')\n",
    "plt.plot(x, f_array, label=r'f_array contra y')\n",
    "plt.xlabel(r'Eje $x$ o $y$')\n",
    "plt.title(r'Simbólico != Numérico')\n",
    "plt.legend()"
   ]
  },
  {
   "cell_type": "markdown",
   "metadata": {
    "slideshow": {
     "slide_type": "slide"
    }
   },
   "source": [
    "# 👓 Cosas que les pueden servir\n",
    "\n",
    "0. **Acostumbrarse a Googlear y leer documentación**\n",
    "\n",
    "    Siempre que se puede, en inglés y con palabras clave. Usar comillas y fijarse en versiones.\n",
    "\n",
    "    La documentación de NumPy está en https://numpy.org/doc/stable/contents.html\n",
    "    \n",
    "    La documentación de Matplotlib está en https://matplotlib.org/stable/contents.html\n",
    "    \n",
    "    ¡Ojo con las versiones!"
   ]
  },
  {
   "cell_type": "markdown",
   "metadata": {
    "slideshow": {
     "slide_type": "slide"
    }
   },
   "source": [
    "1. CodeAcademy (https://www.codecademy.com/)\n",
    "2. QuantEcon (https://python-programming.quantecon.org/)\n",
    "3. Jupyter Notebooks o Google Colab (https://jupyter.org/ o https://colab.research.google.com/)"
   ]
  },
  {
   "cell_type": "markdown",
   "metadata": {
    "slideshow": {
     "slide_type": "slide"
    }
   },
   "source": [
    "\n",
    "# 📚 Algunas cosas que pueden aprender y probablemente les sean útiles*\n",
    "\n",
    "*pero no son necesarias para este curso\n",
    "\n",
    "1. Git y GitHub (https://github.com/)\n",
    "2. PEP8 (https://www.python.org/dev/peps/pep-0008/)\n",
    "3. C++ y Julia\n",
    "4. Pandas y TensorFlow"
   ]
  }
 ],
 "metadata": {
  "celltoolbar": "Slideshow",
  "kernelspec": {
   "display_name": "Python 3.8.2 64-bit",
   "language": "python",
   "name": "python38264bit9c563057edff471fac51e4931dc5b693"
  },
  "language_info": {
   "codemirror_mode": {
    "name": "ipython",
    "version": 3
   },
   "file_extension": ".py",
   "mimetype": "text/x-python",
   "name": "python",
   "nbconvert_exporter": "python",
   "pygments_lexer": "ipython3",
   "version": "3.8.2"
  }
 },
 "nbformat": 4,
 "nbformat_minor": 4
}
